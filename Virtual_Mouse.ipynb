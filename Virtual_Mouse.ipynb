{
 "cells": [
  {
   "cell_type": "code",
   "execution_count": 49,
   "id": "03d5b9a9-e728-40cd-977a-30f781b2b951",
   "metadata": {},
   "outputs": [],
   "source": [
    "import cv2\n",
    "import random\n",
    "import mediapipe as mp\n",
    "import pyautogui\n",
    "import util\n",
    "from pynput.mouse import Button,Controller\n",
    "mouse = Controller()"
   ]
  },
  {
   "cell_type": "code",
   "execution_count": 50,
   "id": "3c037583-3e48-4b8a-ba79-ea515789181e",
   "metadata": {},
   "outputs": [],
   "source": [
    "screen_width, screen_height = pyautogui.size()\n",
    "\n",
    "mpHands = mp.solutions.hands\n",
    "hands = mpHands.Hands(\n",
    "    static_image_mode = False,\n",
    "    model_complexity = 1,\n",
    "    min_detection_confidence = 0.7,\n",
    "    min_tracking_confidence = 0.7,\n",
    "    max_num_hands = 1\n",
    ")\n"
   ]
  },
  {
   "cell_type": "code",
   "execution_count": 51,
   "id": "bdad25a7-9b95-4d81-870e-5bfbc0df388e",
   "metadata": {},
   "outputs": [],
   "source": [
    "def find_finger_tip(processed):\n",
    "    if processed.multi_hand_landmarks:\n",
    "        hand_landMarks = processed.multi_hand_landmarks[0]\n",
    "        return hand_landMarks.landmark[mpHands.HandLandmark.INDEX_FINGER_TIP]\n",
    "    return None"
   ]
  },
  {
   "cell_type": "code",
   "execution_count": 52,
   "id": "12618b45-d8c1-47bf-a4a2-717c259e8319",
   "metadata": {},
   "outputs": [],
   "source": [
    "def move_mouse(index_finger_tip):\n",
    "    if index_finger_tip is not None:\n",
    "        x = int(index_finger_tip.x * screen_width)\n",
    "        y = int(index_finger_tip.y * screen_height)\n",
    "        pyautogui.moveTo(x,y)\n",
    "        "
   ]
  },
  {
   "cell_type": "code",
   "execution_count": 53,
   "id": "1e3b71ee-5f76-44eb-bbe6-6611b83f400e",
   "metadata": {},
   "outputs": [],
   "source": [
    "def is_left_click(landMarks_list,thumb_index_dist):\n",
    "    return (\n",
    "            util.get_angle(landMarks_list[5],landMarks_list[6],landMarks_list[8])<50 and\n",
    "            util.get_angle(landMarks_list[9],landMarks_list[10],landMarks_list[12])>90 and \n",
    "            thumb_index_dist > 50\n",
    "     )\n",
    "    \n",
    "def is_right_click(landMarks_list,thumb_index_dist):\n",
    "    return (\n",
    "            util.get_angle(landMarks_list[9],landMarks_list[10],landMarks_list[12])<50 and\n",
    "            util.get_angle(landMarks_list[5],landMarks_list[6],landMarks_list[8])>90 and \n",
    "            thumb_index_dist > 50\n",
    "     )\n",
    "\n",
    "def is_double_click(landMarks_list,thumb_index_dist):\n",
    "    return (\n",
    "            util.get_angle(landMarks_list[9],landMarks_list[10],landMarks_list[12])<50 and\n",
    "            util.get_angle(landMarks_list[5],landMarks_list[6],landMarks_list[8])>50 and \n",
    "            thumb_index_dist > 50\n",
    "     )\n",
    "def is_screenshot(landMarks_list,thumb_index_dist):\n",
    "    return (\n",
    "            util.get_angle(landMarks_list[5],landMarks_list[6],landMarks_list[8])<50 and\n",
    "            util.get_angle(landMarks_list[9],landMarks_list[10],landMarks_list[12])<50 and \n",
    "            thumb_index_dist < 50\n",
    "     )"
   ]
  },
  {
   "cell_type": "code",
   "execution_count": 54,
   "id": "73051bc6-a955-4552-a21e-7d58368c3015",
   "metadata": {},
   "outputs": [],
   "source": [
    "def detect_gestures(frame,landMarks_list,processed):\n",
    "    if len(landMarks_list)>=21:\n",
    "        index_finger_tip = find_finger_tip(processed)\n",
    "        thumb_fing_dist = util.get_distance([landMarks_list[4],landMarks_list[5]])\n",
    "        if thumb_fing_dist < 50 and util.get_angle(landMarks_list[5],landMarks_list[6],landMarks_list[8])>90:\n",
    "            move_mouse(index_finger_tip)\n",
    "\n",
    "        #Left Click \n",
    "        elif is_left_click(landMarks_list,thumb_fing_dist):\n",
    "            mouse.press(Button.left)\n",
    "            mouse.release(Button.left)\n",
    "            cv2.putText(frame,\"Left Click\",(50, 50), cv2.FONT_HERSHEY_SIMPLEX,1,(0,255,0),2)\n",
    "\n",
    "        #RIGHT Click \n",
    "        elif is_right_click(landMarks_list,thumb_fing_dist):\n",
    "            mouse.press(Button.right)\n",
    "            mouse.release(Button.right)\n",
    "            cv2.putText(frame,\"Right Click\",(50, 50), cv2.FONT_HERSHEY_SIMPLEX,1,(0,0,255), 2)\n",
    "\n",
    "        #DOUBLE CLICK \n",
    "        elif is_double_click(landMarks_list,thumb_fing_dist):\n",
    "            pyautogui.doubleClick()\n",
    "            cv2.putText(frame,\"Double Click\",(50, 50), cv2.FONT_HERSHEY_SIMPLEX,1,(255,255,0), 2)\n",
    "\n",
    "        #SCREENSHOT \n",
    "        elif is_screenshot(landMarks_list,thumb_fing_dist):\n",
    "            im1 = pyautogui.screenshot()\n",
    "            label = random.randint(1,1000)\n",
    "            im1.save(f'my_screenshot_{label}.png')\n",
    "            cv2.putText(frame,\"Screenshot Taken\",(50,50),cv2.FONT_HERSHEY_SIMPLEX, 1, (255, 255, 0), 2)\n",
    "        "
   ]
  },
  {
   "cell_type": "code",
   "execution_count": null,
   "id": "2293e5f7-a989-4786-8590-901370000a37",
   "metadata": {},
   "outputs": [],
   "source": [
    "def main():\n",
    "    cap = cv2.VideoCapture(0)\n",
    "    draw = mp.solutions.drawing_utils\n",
    "    try:\n",
    "        while cap.isOpened():\n",
    "            ret,frame = cap.read()\n",
    "\n",
    "            if not ret:\n",
    "                break\n",
    "\n",
    "            \n",
    "            frame = cv2.flip(frame,1) \n",
    "            frameRGB = cv2.cvtColor(frame,cv2.COLOR_BGR2RGB)\n",
    "            processed = hands.process(frameRGB)\n",
    "\n",
    "            landMarks_list = []\n",
    "            if processed.multi_hand_landmarks:\n",
    "                hand_landMarks = processed.multi_hand_landmarks[0]\n",
    "                draw.draw_landmarks(frame, hand_landMarks, mpHands.HAND_CONNECTIONS)\n",
    "\n",
    "                for l in hand_landMarks.landmark:\n",
    "                    landMarks_list.append((l.x,l.y))\n",
    "                \n",
    "            detect_gestures(frame,landMarks_list,processed)\n",
    "            \n",
    "            cv2.imshow('FRAME', frame)\n",
    "            if cv2.waitKey(1) & 0xFF == ord('q'):\n",
    "                break \n",
    "                \n",
    "    finally:\n",
    "        cap.release()\n",
    "        cv2.destroyAllWindows() \n",
    "\n",
    "if __name__ == '__main__':\n",
    "    main()"
   ]
  }
 ],
 "metadata": {
  "kernelspec": {
   "display_name": "Python 3 (ipykernel)",
   "language": "python",
   "name": "python3"
  },
  "language_info": {
   "codemirror_mode": {
    "name": "ipython",
    "version": 3
   },
   "file_extension": ".py",
   "mimetype": "text/x-python",
   "name": "python",
   "nbconvert_exporter": "python",
   "pygments_lexer": "ipython3",
   "version": "3.9.23"
  }
 },
 "nbformat": 4,
 "nbformat_minor": 5
}
